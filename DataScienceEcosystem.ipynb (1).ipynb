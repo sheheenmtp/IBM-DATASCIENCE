{
 "cells": [
  {
   "cell_type": "markdown",
   "id": "967a12db-9a82-41cb-a915-f1841009fc54",
   "metadata": {},
   "source": [
    "# Data Science Tools and Ecosystem"
   ]
  },
  {
   "cell_type": "markdown",
   "id": "0408b4be-4679-4ec9-9f22-29863bf1d20f",
   "metadata": {},
   "source": [
    "In this notebook, Data Science Tools and Ecosystem are summarized."
   ]
  },
  {
   "cell_type": "markdown",
   "id": "bf7c16f9-fec4-4770-a435-431bdbda8eca",
   "metadata": {},
   "source": [
    "Some of the popular languages that Data Scientists use are:"
   ]
  },
  {
   "cell_type": "markdown",
   "id": "bf6b76e3-7968-4535-928d-ac400a2421f8",
   "metadata": {},
   "source": [
    "1. PYTHON\n",
    "2. SCALA\n",
    "3. R"
   ]
  },
  {
   "cell_type": "markdown",
   "id": "0a931514-a664-4a75-96f4-b198cd800b94",
   "metadata": {},
   "source": [
    "Some of the commonly used libraries used by Data Scientists include:"
   ]
  },
  {
   "cell_type": "markdown",
   "id": "18aed684-e018-4928-a1d0-d5c04aaf68ce",
   "metadata": {},
   "source": [
    "1. PANDAS\n",
    "2. MATPLOTLIB\n",
    "3. NUMPY"
   ]
  },
  {
   "cell_type": "markdown",
   "id": "df62c552-77a5-4ecc-9dcf-aca19c9ed8f6",
   "metadata": {},
   "source": [
    "| Data Science Tools |\n",
    "| ------------------ |\n",
    "| HADOOP |\n",
    "| MY SQL |\n",
    "| MONGO DB|"
   ]
  },
  {
   "cell_type": "markdown",
   "id": "18e59d32-89ce-44a8-ace2-a6357dd9e34f",
   "metadata": {},
   "source": [
    "### Below are a few examples of evaluating arithmetic expressions in Python"
   ]
  },
  {
   "cell_type": "markdown",
   "id": "9aa41e33-4305-4b9b-bf85-1dfec7ee469e",
   "metadata": {},
   "source": [
    "This a simple arithmetic expression to mutiply then add integers"
   ]
  },
  {
   "cell_type": "code",
   "execution_count": 8,
   "id": "e35d32eb-a700-4002-bcc1-189435d58204",
   "metadata": {},
   "outputs": [
    {
     "data": {
      "text/plain": [
       "17"
      ]
     },
     "execution_count": 8,
     "metadata": {},
     "output_type": "execute_result"
    }
   ],
   "source": [
    "(3*4)+5"
   ]
  },
  {
   "cell_type": "markdown",
   "id": "35c27ef6-2523-4ac6-a016-6f1352dc5562",
   "metadata": {},
   "source": [
    "This will convert 200 minutes to hours by diving by 60"
   ]
  },
  {
   "cell_type": "code",
   "execution_count": 9,
   "id": "a8c060b4-c395-432d-987c-41b5bdbea6ee",
   "metadata": {},
   "outputs": [
    {
     "data": {
      "text/plain": [
       "3.3333333333333335"
      ]
     },
     "execution_count": 9,
     "metadata": {},
     "output_type": "execute_result"
    }
   ],
   "source": [
    "(200/60)"
   ]
  },
  {
   "cell_type": "markdown",
   "id": "60738f6c-783e-4815-bed4-eefb101e3b65",
   "metadata": {},
   "source": [
    "__Objectives:__"
   ]
  },
  {
   "cell_type": "markdown",
   "id": "08fd081e-e2d6-4a52-a335-ce1d4bbc0e19",
   "metadata": {},
   "source": [
    "* PYTHON\n",
    "*  R\n",
    "*  SQL"
   ]
  },
  {
   "cell_type": "markdown",
   "id": "88a0193f-c64a-4bab-8b46-4c6d1f8d0a9a",
   "metadata": {},
   "source": [
    "## AUTHOR"
   ]
  },
  {
   "cell_type": "markdown",
   "id": "5e104c6d-035a-478c-981e-e3c194d8d354",
   "metadata": {},
   "source": [
    "MUHAMMED SHEHEEN M T P"
   ]
  },
  {
   "cell_type": "code",
   "execution_count": null,
   "id": "1706f9e3-0a4b-48b5-a000-434e7026646a",
   "metadata": {},
   "outputs": [],
   "source": []
  }
 ],
 "metadata": {
  "kernelspec": {
   "display_name": "Python 3 (ipykernel)",
   "language": "python",
   "name": "python3"
  },
  "language_info": {
   "codemirror_mode": {
    "name": "ipython",
    "version": 3
   },
   "file_extension": ".py",
   "mimetype": "text/x-python",
   "name": "python",
   "nbconvert_exporter": "python",
   "pygments_lexer": "ipython3",
   "version": "3.12.8"
  }
 },
 "nbformat": 4,
 "nbformat_minor": 5
}
