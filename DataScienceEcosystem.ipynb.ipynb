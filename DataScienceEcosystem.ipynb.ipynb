{
 "cells": [
  {
   "cell_type": "markdown",
   "id": "7ad0b095-8b86-433d-8082-f69a2413ad0b",
   "metadata": {},
   "source": [
    "## Author\n",
    "MUHAMMED SHEHEEN M T P"
   ]
  },
  {
   "cell_type": "code",
   "execution_count": null,
   "id": "9fe5435e-4962-42d0-bf83-c1498b325166",
   "metadata": {},
   "outputs": [],
   "source": []
  }
 ],
 "metadata": {
  "kernelspec": {
   "display_name": "Python 3 (ipykernel)",
   "language": "python",
   "name": "python3"
  },
  "language_info": {
   "codemirror_mode": {
    "name": "ipython",
    "version": 3
   },
   "file_extension": ".py",
   "mimetype": "text/x-python",
   "name": "python",
   "nbconvert_exporter": "python",
   "pygments_lexer": "ipython3",
   "version": "3.12.8"
  }
 },
 "nbformat": 4,
 "nbformat_minor": 5
}
